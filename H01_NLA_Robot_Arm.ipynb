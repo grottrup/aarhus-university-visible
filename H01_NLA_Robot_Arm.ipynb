{
  "nbformat": 4,
  "nbformat_minor": 0,
  "metadata": {
    "colab": {
      "name": "H01_NLA_Robot_Arm.ipynb",
      "provenance": [],
      "collapsed_sections": [],
      "authorship_tag": "ABX9TyNWJLQi2FHRotZhqpqkWBL2",
      "include_colab_link": true
    },
    "kernelspec": {
      "name": "python3",
      "display_name": "Python 3"
    }
  },
  "cells": [
    {
      "cell_type": "markdown",
      "metadata": {
        "id": "view-in-github",
        "colab_type": "text"
      },
      "source": [
        "<a href=\"https://colab.research.google.com/github/grottrup/aarhus-university-visible/blob/main/H01_NLA_Robot_Arm.ipynb\" target=\"_parent\"><img src=\"https://colab.research.google.com/assets/colab-badge.svg\" alt=\"Open In Colab\"/></a>"
      ]
    },
    {
      "cell_type": "markdown",
      "metadata": {
        "id": "PbOv5VIyT7Az"
      },
      "source": [
        "# Numerisk Lineær Algebra #1\r\n",
        "### Simon Grottrup - AU546462"
      ]
    },
    {
      "cell_type": "markdown",
      "metadata": {
        "id": "O-GgiWnPVINq"
      },
      "source": [
        "![image.png](data:image/png;base64,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)"
      ]
    },
    {
      "cell_type": "markdown",
      "metadata": {
        "id": "2MnMz7H0Ushd"
      },
      "source": [
        "En robotarm består af 4 faste dele $O A, A B, B C \\operatorname{og} C P$ samlet i planen să den kan bøjes ved ledderne $O, A, B$ og $C .$ Lad $\\mathbf{a}=\\overrightarrow{O A}, \\mathbf{b}=\\overrightarrow{A B}, \\mathbf{c}=\\overrightarrow{B C}, \\mathbf{d}=\\overrightarrow{C P}$\r\n",
        "Robotarmens stíling er bestemt af matrícen\r\n",
        "$$\r\n",
        "S=\\left[\\begin{array}{llll}\r\n",
        "\\mathbf{a} & \\mathbf{b} & \\mathbf{c} & \\mathbf{d}\r\n",
        "\\end{array}\\right]\r\n",
        "$$"
      ]
    },
    {
      "cell_type": "markdown",
      "metadata": {
        "id": "TJflFUMyZaFW"
      },
      "source": [
        "Fra Python kan bibliotekerne `matplotlib` og `numpy` bruges til at tegne robotarmen og lave beregningerne for matrix operationerne."
      ]
    },
    {
      "cell_type": "code",
      "metadata": {
        "id": "BcgTKTYDVMOe"
      },
      "source": [
        "import matplotlib.pyplot as plt\r\n",
        "import numpy as np"
      ],
      "execution_count": 1,
      "outputs": []
    },
    {
      "cell_type": "markdown",
      "metadata": {
        "id": "BdAxcrL0UtY_"
      },
      "source": [
        "(a) Vælg nogle rimelige værdier for indgangerne i $\\mathbf{a}, \\mathbf{b}, \\mathbf{c} \\text{ og } \\mathbf{d}$, og brug derefter matplotlib til at lave en tegningen af robotarmen som ovenfor.\r\n"
      ]
    },
    {
      "cell_type": "markdown",
      "metadata": {
        "id": "GtWoEpjvaZ0N"
      },
      "source": [
        "Hvis man bruger `quiver` functionen fra `matplotlib.pyplot` kan hver led i robotarmen defineres som individuelle vektorer."
      ]
    },
    {
      "cell_type": "code",
      "metadata": {
        "colab": {
          "base_uri": "https://localhost:8080/",
          "height": 265
        },
        "id": "WuatSa9Rbbuu",
        "outputId": "0b98ec66-3092-4e16-9470-6c75b9ff9e7e"
      },
      "source": [
        "class Robot:\r\n",
        "  def __init__(self, a=np.array([4, 10]), b=np.array([3, 0.5]) ,c=np.array([2, -3]) , d=np.array([-0.25, -1.5])):\r\n",
        "    self.a = a\r\n",
        "    self.b = b\r\n",
        "    self.c = c\r\n",
        "    self.d = d\r\n",
        "\r\n",
        "  @property\r\n",
        "  def x(self):\r\n",
        "    return np.array([self.a[0], self.b[0], self.c[0], self.d[0]])\r\n",
        "  \r\n",
        "  @property\r\n",
        "  def y(self):\r\n",
        "    return np.array([self.a[1], self.b[1], self.c[1], self.d[1]])\r\n",
        "    \r\n",
        "  def draw(self):\r\n",
        "    pivotx = [0, 0, 0, 0]\r\n",
        "    pivoty = [0, 0, 0, 0]\r\n",
        "    for i in range(1, 4):\r\n",
        "        pivotx[i] = pivotx[i-1] + self.x[i-1]\r\n",
        "        pivoty[i] = pivoty[i-1] + self.y[i-1]\r\n",
        "    fig, ax = plt.subplots()\r\n",
        "    ax.set_aspect('equal')\r\n",
        "    ax.quiver(pivotx, pivoty, self.x, self.y, scale_units ='xy', scale=1)\r\n",
        "    plt.xlim([0, 15])\r\n",
        "    plt.ylim([0, 15])\r\n",
        "    return fig, ax\r\n",
        "\r\n",
        "S=Robot()\r\n",
        "fig, ax = S.draw()\r\n",
        "fig.show()"
      ],
      "execution_count": 3,
      "outputs": [
        {
          "output_type": "display_data",
          "data": {
            "image/png": "[encoded data removed]",
            "text/plain": [
              "<Figure size 432x288 with 1 Axes>"
            ]
          },
          "metadata": {
            "tags": [],
            "needs_background": "light"
          }
        }
      ]
    },
    {
      "cell_type": "markdown",
      "metadata": {
        "id": "2TWD-odYUwmL"
      },
      "source": [
        "(b) Bestem vektoren $\\overrightarrow{O P}$ ud fra $\\mathbf{a}, \\mathbf{b}, \\mathbf{c}, \\mathbf{d}$."
      ]
    },
    {
      "cell_type": "markdown",
      "metadata": {
        "id": "TdDxUtjOs3mi"
      },
      "source": [
        "Når vektorerne lægges sammen kan det nye endepunkt for vektoren $\\overrightarrow{O P}$ defineres."
      ]
    },
    {
      "cell_type": "code",
      "metadata": {
        "id": "REWFtVwUYLQW",
        "colab": {
          "base_uri": "https://localhost:8080/",
          "height": 265
        },
        "outputId": "31b80ca8-3a80-4ae8-f164-90be028444a0"
      },
      "source": [
        "fig, ax = S.draw()\r\n",
        "OP = np.array([np.sum(S.x), np.sum(S.y)])\r\n",
        "ax.quiver(OP[0], OP[1], scale_units ='xy', scale=1, color='red')\r\n",
        "fig.show()"
      ],
      "execution_count": 4,
      "outputs": [
        {
          "output_type": "display_data",
          "data": {
            "image/png": "[encoded data removed]",
            "text/plain": [
              "<Figure size 432x288 with 1 Axes>"
            ]
          },
          "metadata": {
            "tags": [],
            "needs_background": "light"
          }
        }
      ]
    },
    {
      "cell_type": "markdown",
      "metadata": {
        "id": "S0qaTtW3UxII"
      },
      "source": [
        "(c) Gør rede for at når armen bøjes i ledet $C$, svarer det til at anvende en rotationsmatrix $R_{C}$ på $\\mathbf{d},$ dvs.\r\n",
        "$$\r\n",
        "\\operatorname{bøj}_{C}(S)=\\left[\\begin{array}{ll}\r\n",
        "\\mathbf{a} | \\mathbf{b} |\\mathbf{c}| R_{C} \\mathbf{d} \\end{array}\\right]\r\n",
        "$$\r\n",
        "Lav en matplotlib tegning der viser dette."
      ]
    },
    {
      "cell_type": "markdown",
      "metadata": {
        "id": "cs05vuL6vCl2"
      },
      "source": [
        "En rotationsmatrice er defineret ud fra cosinus og sinus værdierne. Følgende formler beskriver hvorledes vi kan beregne cosinus og sinus værdierne til en vinkel. Da vi vælger at rotere robotarmen ud fra en vinkel vi selv vælger kan rotationsmatricen regnes ud fra denne vinkel."
      ]
    },
    {
      "cell_type": "markdown",
      "metadata": {
        "id": "zlSB6juQgml5"
      },
      "source": [
        "Grunden til at der roteres for $\\mathbf d$ stykket er fordi $\\mathbf d$ har origo i leddet $C$. C kan betegnes som vores omdrejningspunkt eller pivot."
      ]
    },
    {
      "cell_type": "markdown",
      "metadata": {
        "id": "F7KeBXLeZKK2"
      },
      "source": [
        "$$\r\n",
        "\\text { længde: }|\\overrightarrow{O P}|=r=\\sqrt{x^{2}+y^{2}}\r\n",
        "$$\r\n",
        "\r\n",
        "$$\r\n",
        "c=\\cos (\\theta)=\\frac{x}{\\sqrt{x^{2}+y^{2}}}\r\n",
        "$$\r\n",
        "\r\n",
        "$$\r\n",
        "s=\\sin (\\theta)=\\frac{y}{\\sqrt{x^{2}+y^{2}}}\r\n",
        "$$\r\n",
        "\r\n",
        "$$\r\n",
        "t=\\tan (\\theta)=\\frac{y}{x}\r\n",
        "$$\r\n",
        "\r\n",
        "$$\r\n",
        "R=\\left[\\begin{array}{cc}\r\n",
        "c & -s \\\\\r\n",
        "s & c\r\n",
        "\\end{array}\\right] \\quad D =c^{2}+s^{2}=1\r\n",
        "$$"
      ]
    },
    {
      "cell_type": "code",
      "metadata": {
        "id": "M5ojHGWiXDDQ"
      },
      "source": [
        "def rot_matrix(θ)-> np.ndarray:\r\n",
        "   c, s = np.cos(θ), np.sin(θ)\r\n",
        "   R = np.array(((c, -s), (s, c)))\r\n",
        "   return R"
      ],
      "execution_count": 5,
      "outputs": []
    },
    {
      "cell_type": "markdown",
      "metadata": {
        "id": "x6G-EhnAgHjF"
      },
      "source": [
        "Nedenfor roterer jeg en halv omgang og derefter en halv omgang, hvor det sidste led i robotten vender tilbage til sind start position."
      ]
    },
    {
      "cell_type": "code",
      "metadata": {
        "id": "Jcq9m4UKciDQ",
        "colab": {
          "base_uri": "https://localhost:8080/",
          "height": 265
        },
        "outputId": "0d818162-dc78-478b-ef19-0d54229d4ad9"
      },
      "source": [
        "from IPython.display import HTML, display\r\n",
        "\r\n",
        "display(HTML(\"\"\"\r\n",
        "<style>\r\n",
        "#output-body {\r\n",
        "    display: flex;\r\n",
        "    align-items: center;\r\n",
        "    justify-content: center;\r\n",
        "}\r\n",
        "</style>\r\n",
        "\"\"\"))\r\n",
        "\r\n",
        "S=Robot()\r\n",
        "fig, ax = S.draw()\r\n",
        "fig.show()\r\n",
        "\r\n",
        "R = rot_matrix(np.pi)\r\n",
        "S=Robot(d=R@S.d)\r\n",
        "fig, ax = S.draw()\r\n",
        "fig.show()\r\n",
        "\r\n",
        "S=Robot(d=R@S.d)\r\n",
        "fig, ax = S.draw()\r\n",
        "fig.show()"
      ],
      "execution_count": 6,
      "outputs": [
        {
          "output_type": "display_data",
          "data": {
            "text/html": [
              "\n",
              "<style>\n",
              "#output-body {\n",
              "    display: flex;\n",
              "    align-items: center;\n",
              "    justify-content: center;\n",
              "}\n",
              "</style>\n"
            ],
            "text/plain": [
              "<IPython.core.display.HTML object>"
            ]
          },
          "metadata": {
            "tags": []
          }
        },
        {
          "output_type": "display_data",
          "data": {
            "image/png": "[encoded data removed]",
            "text/plain": [
              "<Figure size 432x288 with 1 Axes>"
            ]
          },
          "metadata": {
            "tags": [],
            "needs_background": "light"
          }
        },
        {
          "output_type": "display_data",
          "data": {
            "image/png": "[encoded data removed]",
            "text/plain": [
              "<Figure size 432x288 with 1 Axes>"
            ]
          },
          "metadata": {
            "tags": [],
            "needs_background": "light"
          }
        },
        {
          "output_type": "display_data",
          "data": {
            "image/png": "[encoded data removed]",
            "text/plain": [
              "<Figure size 432x288 with 1 Axes>"
            ]
          },
          "metadata": {
            "tags": [],
            "needs_background": "light"
          }
        }
      ]
    },
    {
      "cell_type": "markdown",
      "metadata": {
        "id": "SIlpzysicLnC"
      },
      "source": [
        "(d) Giv en opskrift for $bøj_A(S)$ , hvor robotarmen bøjes kun i ledet  $A$ . Vis dette i en tegning."
      ]
    },
    {
      "cell_type": "markdown",
      "metadata": {
        "id": "cBQyGp3nhM8B"
      },
      "source": [
        "Når leddet A bøjes, skal det huskes at de efterfølgende led vil ligeledes rotere med $A$ som omdrejningspunkt. Derfor skal effekten af rotationsmatricen påføres alle efterfølgende led. Stykket $\\mathbf{b}$ har sit begyndelsespunkt i ledet $A$.\r\n",
        "\r\n",
        "$$\r\n",
        "\\operatorname{bøj}_{A}(S)=\\left[\\begin{array}{ll}\r\n",
        "\\mathbf{a} | R_{A}\\mathbf{b} |R_{A}\\mathbf{c}| R_{A} \\mathbf{d} \\end{array}\\right]\r\n",
        "$$"
      ]
    },
    {
      "cell_type": "code",
      "metadata": {
        "id": "b8Il2YXTTwLq",
        "colab": {
          "base_uri": "https://localhost:8080/",
          "height": 265
        },
        "outputId": "5d50c7d0-77b8-4c56-fac1-004a223b91c1"
      },
      "source": [
        "from IPython.display import HTML, display\r\n",
        "\r\n",
        "display(HTML(\"\"\"\r\n",
        "<style>\r\n",
        "#output-body {\r\n",
        "    display: flex;\r\n",
        "    align-items: center;\r\n",
        "    justify-content: center;\r\n",
        "}\r\n",
        "</style>\r\n",
        "\"\"\"))\r\n",
        "\r\n",
        "S=Robot()\r\n",
        "fig, ax = S.draw()\r\n",
        "fig.show()\r\n",
        "\r\n",
        "R = rot_matrix(-np.pi/8)\r\n",
        "\r\n",
        "S=Robot(b=R@S.b,c=R@S.c,d=R@S.d)\r\n",
        "fig, ax = S.draw()\r\n",
        "fig.show()\r\n",
        "\r\n",
        "S=Robot(b=R@R@S.b,c=R@R@S.c,d=R@R@S.d)\r\n",
        "fig, ax = S.draw()\r\n",
        "fig.show()"
      ],
      "execution_count": 7,
      "outputs": [
        {
          "output_type": "display_data",
          "data": {
            "text/html": [
              "\n",
              "<style>\n",
              "#output-body {\n",
              "    display: flex;\n",
              "    align-items: center;\n",
              "    justify-content: center;\n",
              "}\n",
              "</style>\n"
            ],
            "text/plain": [
              "<IPython.core.display.HTML object>"
            ]
          },
          "metadata": {
            "tags": []
          }
        },
        {
          "output_type": "display_data",
          "data": {
            "image/png": "[encoded data removed]",
            "text/plain": [
              "<Figure size 432x288 with 1 Axes>"
            ]
          },
          "metadata": {
            "tags": [],
            "needs_background": "light"
          }
        },
        {
          "output_type": "display_data",
          "data": {
            "image/png": "[encoded data removed]",
            "text/plain": [
              "<Figure size 432x288 with 1 Axes>"
            ]
          },
          "metadata": {
            "tags": [],
            "needs_background": "light"
          }
        },
        {
          "output_type": "display_data",
          "data": {
            "image/png": "[encoded data removed]",
            "text/plain": [
              "<Figure size 432x288 with 1 Axes>"
            ]
          },
          "metadata": {
            "tags": [],
            "needs_background": "light"
          }
        }
      ]
    },
    {
      "cell_type": "markdown",
      "metadata": {
        "id": "NaV_-mj3cWz3"
      },
      "source": [
        "(e) Vis at generelt er\r\n",
        "$bøj_A( bøj_C(S))=bøj_C( bøj_A(S))$ \r\n",
        "dvs. det har ingen betydning hvilket led vi bøjer først."
      ]
    },
    {
      "cell_type": "markdown",
      "metadata": {
        "id": "Ab7bWJ2UkSNd"
      },
      "source": [
        "For en rotationsmatrice vil productet være identisk uanset rækkefølgen de to matricer ganges sammen. "
      ]
    },
    {
      "cell_type": "markdown",
      "metadata": {
        "id": "tSIE5yor-Gmw"
      },
      "source": [
        "$$bøj_C(S)=[a|b|c|R_Cd]$$\r\n",
        "$$bøj_A(S)=[a|R_Ab|R_Ac|R_Ad]$$\r\n",
        "\r\n",
        "$$bøj_A(bøj_C(S))=[a|R_Ab|R_Ac|R_A(R_Cd)]$$\r\n",
        "$$bøj_C(bøj_A(S))=[a|R_Ab|R_Ac|R_C(R_Ad)]$$\r\n",
        "\r\n",
        "$$R_AR_C\\Leftrightarrow R_CR_A$$"
      ]
    },
    {
      "cell_type": "markdown",
      "metadata": {
        "id": "480KBmQtk0la"
      },
      "source": [
        "Dette kan vises ved at opskrive resultatet for produktet af de to matricer: Vi kan erkende at hvis resultatet opskrives i en anden rækkefølge er det identisk uanset om $R_A$ påføres $R_C$ eller omvendt."
      ]
    },
    {
      "cell_type": "markdown",
      "metadata": {
        "id": "U30T6y8kkuhS"
      },
      "source": [
        "\r\n",
        "$$\r\n",
        "R_A=\\left[\\begin{array}{cc}\r\n",
        "c_A & -s_A \\\\\r\n",
        "s_A & c_A\r\n",
        "\\end{array}\\right] \\quad \r\n",
        "R_C=\\left[\\begin{array}{cc}\r\n",
        "c_C & -s_C \\\\\r\n",
        "s_C & c_C\r\n",
        "\\end{array}\\right]\r\n",
        "$$\r\n",
        "$$\r\n",
        "\\left[\\begin{array}{cc}\r\n",
        "c_A & -s_A \\\\\r\n",
        "s_A & c_A\r\n",
        "\\end{array}\\right]\r\n",
        "\\left[\\begin{array}{cc}\r\n",
        "c_C & -s_C \\\\\r\n",
        "s_C & c_C\r\n",
        "\\end{array}\\right]\r\n",
        "\\Leftrightarrow\r\n",
        "\\left[\\begin{array}{cc}\r\n",
        "c_C & -s_C \\\\\r\n",
        "s_C & c_C\r\n",
        "\\end{array}\\right]\r\n",
        "\\left[\\begin{array}{cc}\r\n",
        "c_A & -s_A \\\\\r\n",
        "s_A & c_A\r\n",
        "\\end{array}\\right]\r\n",
        "$$"
      ]
    },
    {
      "cell_type": "markdown",
      "metadata": {
        "id": "L6yQ2f4Ao4ln"
      },
      "source": [
        "$$\r\n",
        "\\left[\\begin{array}{cc}\r\n",
        "c_Ac_C -s_As_C & -c_As_C -s_As_C  \\\\\r\n",
        "s_A c_C + c_As_C & -s_A s_C + c_A c_C \r\n",
        "\\end{array}\\right]\r\n",
        "\r\n",
        "\\Leftrightarrow\r\n",
        "\r\n",
        "\\left[\\begin{array}{cc}\r\n",
        "c_Cc_A -s_Cs_A & -c_Cs_A -s_Cs_A  \\\\\r\n",
        "s_C c_A + c_C s_A & -s_C s_A + c_C c_A \r\n",
        "\\end{array}\\right]\r\n",
        "$$"
      ]
    },
    {
      "cell_type": "markdown",
      "metadata": {
        "id": "B98XSTJ9lvkD"
      },
      "source": [
        "Nedenfor har jeg vist at følgende kodestykker vil resultere i en identisk position for robotten.\r\n",
        "\r\n",
        "```\r\n",
        "S=Robot(b=R_A@S.b,c=R_A@S.c,d=R_A@R_C@S.d)\r\n",
        "S=Robot(b=R_A@S.b,c=R_A@S.c,d=R_C@R_A@S.d)\r\n",
        "```"
      ]
    },
    {
      "cell_type": "code",
      "metadata": {
        "colab": {
          "base_uri": "https://localhost:8080/",
          "height": 265
        },
        "id": "aYMG1slbjRQc",
        "outputId": "fa797972-ea05-4478-ce79-e88fb3985978"
      },
      "source": [
        "from IPython.display import HTML, display\r\n",
        "\r\n",
        "display(HTML(\"\"\"\r\n",
        "<style>\r\n",
        "#output-body {\r\n",
        "    display: flex;\r\n",
        "    align-items: center;\r\n",
        "    justify-content: center;\r\n",
        "}\r\n",
        "</style>\r\n",
        "\"\"\"))\r\n",
        "\r\n",
        "R_C = rot_matrix(np.pi/2)\r\n",
        "R_A = rot_matrix(np.pi/4)\r\n",
        "\r\n",
        "S=Robot()\r\n",
        "S=Robot(b=R_A@S.b,c=R_A@S.c,d=R_A@R_C@S.d)\r\n",
        "fig, ax = S.draw()\r\n",
        "fig.show()\r\n",
        "\r\n",
        "S=Robot()\r\n",
        "S=Robot(b=R_A@S.b,c=R_A@S.c,d=R_C@R_A@S.d)\r\n",
        "fig, ax = S.draw()\r\n",
        "fig.show()"
      ],
      "execution_count": 13,
      "outputs": [
        {
          "output_type": "display_data",
          "data": {
            "text/html": [
              "\n",
              "<style>\n",
              "#output-body {\n",
              "    display: flex;\n",
              "    align-items: center;\n",
              "    justify-content: center;\n",
              "}\n",
              "</style>\n"
            ],
            "text/plain": [
              "<IPython.core.display.HTML object>"
            ]
          },
          "metadata": {
            "tags": []
          }
        },
        {
          "output_type": "display_data",
          "data": {
            "image/png": "[encoded data removed]",
            "text/plain": [
              "<Figure size 432x288 with 1 Axes>"
            ]
          },
          "metadata": {
            "tags": [],
            "needs_background": "light"
          }
        },
        {
          "output_type": "display_data",
          "data": {
            "image/png": "[encoded data removed]",
            "text/plain": [
              "<Figure size 432x288 with 1 Axes>"
            ]
          },
          "metadata": {
            "tags": [],
            "needs_background": "light"
          }
        }
      ]
    }
  ]
}